{
 "cells": [
  {
   "cell_type": "code",
   "execution_count": 1,
   "metadata": {},
   "outputs": [],
   "source": [
    "%matplotlib inline\n",
    "import matplotlib as mpl\n",
    "import matplotlib.pyplot as plt\n",
    "import seaborn as sns\n",
    "import numpy as np\n",
    "import pandas as pd"
   ]
  },
  {
   "cell_type": "code",
   "execution_count": 2,
   "metadata": {},
   "outputs": [],
   "source": [
    "data = pd.read_csv('../../data/atec_anti_fraud_train.csv')"
   ]
  },
  {
   "cell_type": "code",
   "execution_count": 4,
   "metadata": {},
   "outputs": [
    {
     "name": "stdout",
     "output_type": "stream",
     "text": [
      "990006\n"
     ]
    }
   ],
   "source": [
    "train = data[data['label']!=-1]\n",
    "#train.to_csv('../../data/train.csv', index=False)\n",
    "print(train.shape[0])"
   ]
  },
  {
   "cell_type": "code",
   "execution_count": 5,
   "metadata": {},
   "outputs": [
    {
     "name": "stderr",
     "output_type": "stream",
     "text": [
      "c:\\d\\python3.6\\lib\\site-packages\\ipykernel_launcher.py:8: SettingWithCopyWarning: \n",
      "A value is trying to be set on a copy of a slice from a DataFrame.\n",
      "Try using .loc[row_indexer,col_indexer] = value instead\n",
      "\n",
      "See the caveats in the documentation: http://pandas.pydata.org/pandas-docs/stable/indexing.html#indexing-view-versus-copy\n",
      "  \n",
      "c:\\d\\python3.6\\lib\\site-packages\\ipykernel_launcher.py:11: DeprecationWarning: \n",
      ".ix is deprecated. Please use\n",
      ".loc for label based indexing or\n",
      ".iloc for positional indexing\n",
      "\n",
      "See the documentation here:\n",
      "http://pandas.pydata.org/pandas-docs/stable/indexing.html#ix-indexer-is-deprecated\n",
      "  # This is added back by InteractiveShellApp.init_path()\n",
      "c:\\d\\python3.6\\lib\\site-packages\\pandas\\core\\indexing.py:537: SettingWithCopyWarning: \n",
      "A value is trying to be set on a copy of a slice from a DataFrame.\n",
      "Try using .loc[row_indexer,col_indexer] = value instead\n",
      "\n",
      "See the caveats in the documentation: http://pandas.pydata.org/pandas-docs/stable/indexing.html#indexing-view-versus-copy\n",
      "  self.obj[item] = s\n"
     ]
    }
   ],
   "source": [
    "# 提取离散特征\n",
    "cate_feat = ['f1_0', 'f1_2', 'f3_0', 'f3_2', 'f6_0', 'f6_2', 'f6_3', 'f6_4', 'f9_0', 'f9_2', 'f10_0', 'f10_2', 'f11_0',\n",
    "             'f11_2', 'f12_0', 'f12_2', 'f14_0', 'f14_2', 'f15_0', 'f15_2', 'f16_2', 'f18_0', 'f18_2', 'f59_0', 'f59_1', \n",
    "             'f60_0', 'f60_1', 'f157_0', 'f157_1', 'f166_0', 'f166_1', 'f167_0', 'f167_1', 'f168_0', 'f168_1', 'f186_0', \n",
    "             'f186_1', 'f194_0', 'f194_1', 'f199_0', 'f199_1', 'f254_0', 'f254_1', 'f272_0', 'f272_1']\n",
    "\n",
    "for i in cate_feat:\n",
    "    train[i] = 0\n",
    "    name = i.split('_')[0]\n",
    "    value = int(i.split('_')[1])\n",
    "    train.ix[train[name]==value, i] = 1"
   ]
  },
  {
   "cell_type": "code",
   "execution_count": 6,
   "metadata": {},
   "outputs": [],
   "source": [
    "# 提取连续特征\n",
    "conti_feat = ['f5', 'f7', 'f20', 'f21', 'f22', 'f23', 'f24', 'f25', 'f26', 'f27', 'f28', 'f29', 'f30', 'f31', \n",
    "               'f32', 'f33', 'f34', 'f35', 'f48', 'f49', 'f50', 'f51', 'f52', 'f53', 'f54', 'f55', 'f56', 'f57', \n",
    "               'f58', 'f61', 'f62', 'f63', 'f64', 'f65', 'f66', 'f67', 'f68', 'f69', 'f70', 'f71', 'f72', 'f73', \n",
    "               'f74', 'f75', 'f76', 'f77', 'f78', 'f79', 'f80', 'f81', 'f82', 'f83', 'f84', 'f85', 'f86', 'f87', \n",
    "               'f88', 'f89', 'f90', 'f91', 'f92', 'f93', 'f94', 'f95', 'f96', 'f97', 'f98', 'f99', 'f100', 'f101', \n",
    "               'f102', 'f103', 'f104', 'f105', 'f106', 'f107', 'f108', 'f109', 'f110', 'f111', 'f112', 'f113', 'f114', \n",
    "               'f115', 'f116', 'f117', 'f118', 'f119', 'f120', 'f121', 'f122', 'f123', 'f124', 'f125', 'f126', 'f127', \n",
    "               'f128', 'f129', 'f130', 'f131', 'f132', 'f133', 'f134', 'f135', 'f136', 'f137', 'f138', 'f139', 'f140', \n",
    "               'f141', 'f142', 'f143', 'f144', 'f145', 'f146', 'f147', 'f148', 'f149', 'f150', 'f151', 'f152', 'f153', \n",
    "               'f154', 'f155', 'f156', 'f158', 'f159', 'f160', 'f161', 'f162', 'f163', 'f164', 'f165', 'f169', 'f170', \n",
    "               'f171', 'f172', 'f173', 'f174', 'f175', 'f176', 'f177', 'f178', 'f179', 'f180', 'f181', 'f182', 'f183', \n",
    "               'f184', 'f185', 'f187', 'f188', 'f189', 'f190', 'f191', 'f192', 'f193', 'f195', 'f196', 'f197', 'f198', \n",
    "               'f200', 'f201', 'f202', 'f203', 'f204', 'f205', 'f206', 'f207', 'f208', 'f209', 'f210', 'f211', 'f212', \n",
    "               'f213', 'f214', 'f215', 'f216', 'f217', 'f218', 'f219', 'f220', 'f221', 'f222', 'f223', 'f224', 'f225', \n",
    "               'f226', 'f227', 'f228', 'f229', 'f230', 'f231', 'f232', 'f233', 'f234', 'f235', 'f236', 'f237', 'f238', \n",
    "               'f239', 'f240', 'f241', 'f242', 'f243', 'f244', 'f245', 'f246', 'f247', 'f248', 'f249', 'f250', 'f251', \n",
    "               'f252', 'f253', 'f255', 'f256', 'f257', 'f258', 'f259', 'f260', 'f261', 'f262', 'f263', 'f264', 'f265', \n",
    "               'f266', 'f267', 'f268', 'f269', 'f270', 'f271', 'f273', 'f274', 'f275', 'f276', 'f277', 'f278', 'f279', \n",
    "               'f280', 'f281', 'f282', 'f283', 'f284', 'f285', 'f286', 'f287', 'f288', 'f289', 'f290', 'f291', 'f292', \n",
    "               'f293', 'f294', 'f295', 'f296', 'f297']\n",
    "\n",
    "drop_conti_feat = ['f55', 'f58', 'f72', 'f104', 'f57', 'f62', 'f63', 'f74', 'f84', 'f109', 'f208', 'f239']\n",
    "for i in drop_conti_feat:\n",
    "    conti_feat.remove(i)\n",
    "conti_feat.extend(cate_feat)\n",
    "conti_feat.append('label')\n",
    "conti_feat.append('date')\n",
    "conti_feat.append('id')"
   ]
  },
  {
   "cell_type": "code",
   "execution_count": 7,
   "metadata": {},
   "outputs": [],
   "source": [
    "train = train[conti_feat]"
   ]
  },
  {
   "cell_type": "code",
   "execution_count": 7,
   "metadata": {},
   "outputs": [],
   "source": [
    "# 归一化\n",
    "def guiyi(df):\n",
    "    for i in list(df.columns):\n",
    "        if i not in ['label', 'id', 'date']:\n",
    "            min_ = float(df[i].min())\n",
    "            max_ = float(df[i].max())\n",
    "            df[i] = (df[i]-min_)/(max_-min_)\n",
    "    return df"
   ]
  },
  {
   "cell_type": "code",
   "execution_count": 9,
   "metadata": {},
   "outputs": [],
   "source": [
    "#train = guiyi(train)\n",
    "train.to_csv('../../data/real_train_no_guiyi.csv', index=False)"
   ]
  },
  {
   "cell_type": "code",
   "execution_count": null,
   "metadata": {},
   "outputs": [],
   "source": []
  },
  {
   "cell_type": "code",
   "execution_count": 10,
   "metadata": {},
   "outputs": [],
   "source": [
    "# 处理测试数据\n",
    "test = pd.read_csv('../../data/atec_anti_fraud_test_a.csv')"
   ]
  },
  {
   "cell_type": "code",
   "execution_count": 11,
   "metadata": {},
   "outputs": [
    {
     "name": "stderr",
     "output_type": "stream",
     "text": [
      "c:\\d\\python3.6\\lib\\site-packages\\ipykernel_launcher.py:10: DeprecationWarning: \n",
      ".ix is deprecated. Please use\n",
      ".loc for label based indexing or\n",
      ".iloc for positional indexing\n",
      "\n",
      "See the documentation here:\n",
      "http://pandas.pydata.org/pandas-docs/stable/indexing.html#ix-indexer-is-deprecated\n",
      "  # Remove the CWD from sys.path while we load stuff.\n"
     ]
    }
   ],
   "source": [
    "cate_feat = ['f1_0', 'f1_2', 'f3_0', 'f3_2', 'f6_0', 'f6_2', 'f6_3', 'f6_4', 'f9_0', 'f9_2', 'f10_0', 'f10_2', 'f11_0',\n",
    "             'f11_2', 'f12_0', 'f12_2', 'f14_0', 'f14_2', 'f15_0', 'f15_2', 'f16_2', 'f18_0', 'f18_2', 'f59_0', 'f59_1', \n",
    "             'f60_0', 'f60_1', 'f157_0', 'f157_1', 'f166_0', 'f166_1', 'f167_0', 'f167_1', 'f168_0', 'f168_1', 'f186_0', \n",
    "             'f186_1', 'f194_0', 'f194_1', 'f199_0', 'f199_1', 'f254_0', 'f254_1', 'f272_0', 'f272_1']\n",
    "\n",
    "for i in cate_feat:\n",
    "    test[i] = 0\n",
    "    name = i.split('_')[0]\n",
    "    value = int(i.split('_')[1])\n",
    "    test.ix[test[name]==value, i] = 1"
   ]
  },
  {
   "cell_type": "code",
   "execution_count": 12,
   "metadata": {},
   "outputs": [],
   "source": [
    "conti_feat = ['f5', 'f7', 'f20', 'f21', 'f22', 'f23', 'f24', 'f25', 'f26', 'f27', 'f28', 'f29', 'f30', 'f31', \n",
    "               'f32', 'f33', 'f34', 'f35', 'f48', 'f49', 'f50', 'f51', 'f52', 'f53', 'f54', 'f55', 'f56', 'f57', \n",
    "               'f58', 'f61', 'f62', 'f63', 'f64', 'f65', 'f66', 'f67', 'f68', 'f69', 'f70', 'f71', 'f72', 'f73', \n",
    "               'f74', 'f75', 'f76', 'f77', 'f78', 'f79', 'f80', 'f81', 'f82', 'f83', 'f84', 'f85', 'f86', 'f87', \n",
    "               'f88', 'f89', 'f90', 'f91', 'f92', 'f93', 'f94', 'f95', 'f96', 'f97', 'f98', 'f99', 'f100', 'f101', \n",
    "               'f102', 'f103', 'f104', 'f105', 'f106', 'f107', 'f108', 'f109', 'f110', 'f111', 'f112', 'f113', 'f114', \n",
    "               'f115', 'f116', 'f117', 'f118', 'f119', 'f120', 'f121', 'f122', 'f123', 'f124', 'f125', 'f126', 'f127', \n",
    "               'f128', 'f129', 'f130', 'f131', 'f132', 'f133', 'f134', 'f135', 'f136', 'f137', 'f138', 'f139', 'f140', \n",
    "               'f141', 'f142', 'f143', 'f144', 'f145', 'f146', 'f147', 'f148', 'f149', 'f150', 'f151', 'f152', 'f153', \n",
    "               'f154', 'f155', 'f156', 'f158', 'f159', 'f160', 'f161', 'f162', 'f163', 'f164', 'f165', 'f169', 'f170', \n",
    "               'f171', 'f172', 'f173', 'f174', 'f175', 'f176', 'f177', 'f178', 'f179', 'f180', 'f181', 'f182', 'f183', \n",
    "               'f184', 'f185', 'f187', 'f188', 'f189', 'f190', 'f191', 'f192', 'f193', 'f195', 'f196', 'f197', 'f198', \n",
    "               'f200', 'f201', 'f202', 'f203', 'f204', 'f205', 'f206', 'f207', 'f208', 'f209', 'f210', 'f211', 'f212', \n",
    "               'f213', 'f214', 'f215', 'f216', 'f217', 'f218', 'f219', 'f220', 'f221', 'f222', 'f223', 'f224', 'f225', \n",
    "               'f226', 'f227', 'f228', 'f229', 'f230', 'f231', 'f232', 'f233', 'f234', 'f235', 'f236', 'f237', 'f238', \n",
    "               'f239', 'f240', 'f241', 'f242', 'f243', 'f244', 'f245', 'f246', 'f247', 'f248', 'f249', 'f250', 'f251', \n",
    "               'f252', 'f253', 'f255', 'f256', 'f257', 'f258', 'f259', 'f260', 'f261', 'f262', 'f263', 'f264', 'f265', \n",
    "               'f266', 'f267', 'f268', 'f269', 'f270', 'f271', 'f273', 'f274', 'f275', 'f276', 'f277', 'f278', 'f279', \n",
    "               'f280', 'f281', 'f282', 'f283', 'f284', 'f285', 'f286', 'f287', 'f288', 'f289', 'f290', 'f291', 'f292', \n",
    "               'f293', 'f294', 'f295', 'f296', 'f297']\n",
    "\n",
    "drop_conti_feat = ['f55', 'f58', 'f72', 'f104', 'f57', 'f62', 'f63', 'f74', 'f84', 'f109', 'f208', 'f239']\n",
    "for i in drop_conti_feat:\n",
    "    conti_feat.remove(i)\n",
    "conti_feat.extend(cate_feat)\n",
    "conti_feat.append('date')\n",
    "conti_feat.append('id')"
   ]
  },
  {
   "cell_type": "code",
   "execution_count": 13,
   "metadata": {},
   "outputs": [],
   "source": [
    "test = test[conti_feat]\n",
    "#test = guiyi(test)\n",
    "test.to_csv('../../data/real_test_a.csv', index=False)"
   ]
  },
  {
   "cell_type": "code",
   "execution_count": null,
   "metadata": {},
   "outputs": [],
   "source": []
  }
 ],
 "metadata": {
  "kernelspec": {
   "display_name": "Python 3",
   "language": "python",
   "name": "python3"
  },
  "language_info": {
   "codemirror_mode": {
    "name": "ipython",
    "version": 3
   },
   "file_extension": ".py",
   "mimetype": "text/x-python",
   "name": "python",
   "nbconvert_exporter": "python",
   "pygments_lexer": "ipython3",
   "version": "3.6.4"
  }
 },
 "nbformat": 4,
 "nbformat_minor": 2
}
