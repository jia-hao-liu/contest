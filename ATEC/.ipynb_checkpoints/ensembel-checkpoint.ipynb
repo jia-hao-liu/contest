{
 "cells": [
  {
   "cell_type": "code",
   "execution_count": 2,
   "metadata": {},
   "outputs": [],
   "source": [
    "%%time\n",
    "import numpy as np\n",
    "import pandas as pd\n",
    "\n",
    "data_train = pd.read_csv(\"H:/train.csv\")\n",
    "data_train = data_train[data_train.label != -1].drop(['date', 'id'], axis = 1)\n"
   ]
  },
  {
   "cell_type": "code",
   "execution_count": 8,
   "metadata": {},
   "outputs": [
    {
     "name": "stdout",
     "output_type": "stream",
     "text": [
      "Wall time: 55 s\n"
     ]
    }
   ],
   "source": [
    "%%time\n",
    "# median = []\n",
    "# for i in data_train.columns:\n",
    "#     tmp = data_train[i].describe()\n",
    "#     if tmp[-1] > 3 * tmp[-2]:\n",
    "#         median.append(i)\n",
    "\n",
    "# data_train[data_train.label == 1 ] = data_train[data_train.label == 1].fillna(data_train[data_train.label == 1].median()[median])\n",
    "# data_train[data_train.label == 0 ] = data_train[data_train.label == 0].fillna(data_train[data_train.label == 0].median()[median])\n",
    "# mean = [i for i in data_train.columns if i not in median]\n",
    "data_train[data_train.label == 0 ] = data_train[data_train.label == 0].fillna(data_train[data_train.label == 0].mean())\n",
    "data_train[data_train.label == 1 ] = data_train[data_train.label == 1].fillna(data_train[data_train.label == 1].mean())"
   ]
  },
  {
   "cell_type": "code",
   "execution_count": 3,
   "metadata": {},
   "outputs": [],
   "source": [
    "\n",
    "# data_train1 = pd.concat([data_train[data_train.label == 0].iloc[0:180000,:],data_train[data_train.label == 1]], axis = 0)\n",
    "# data_train2 = pd.concat([data_train[data_train.label == 0].iloc[180000:360000,:],data_train[data_train.label == 1]], axis = 0)\n",
    "# data_train3 = pd.concat([data_train[data_train.label == 0].iloc[360000:540000,:],data_train[data_train.label == 1]], axis = 0)\n",
    "# data_train4 = pd.concat([data_train[data_train.label == 0].iloc[540000:760000,:],data_train[data_train.label == 1]], axis = 0)\n",
    "# data_train5 = pd.concat([data_train[data_train.label == 0].iloc[760000:970000,:],data_train[data_train.label == 1]], axis = 0)"
   ]
  },
  {
   "cell_type": "code",
   "execution_count": 9,
   "metadata": {},
   "outputs": [
    {
     "name": "stdout",
     "output_type": "stream",
     "text": [
      "Wall time: 1min 36s\n"
     ]
    }
   ],
   "source": [
    "%%time\n",
    "import lightgbm as lgb\n",
    "LGBM1 = lgb.LGBMClassifier(\n",
    "                         \n",
    "                         metric = 'auc',\n",
    "                         n_estimators=100, \n",
    "                         learning_rate=0.1, \n",
    "                         num_leaves=63, \n",
    "                         min_samples_split=2)\n",
    "df1 = data_train.as_matrix()\n",
    "X1 = df1[:,1:]\n",
    "y1 = df1[:,0]\n",
    "\n",
    "\n",
    "LGBM1.fit(X1,y1)\n",
    "\n",
    "# LGBM2 = lgb.LGBMClassifier(\n",
    "                         \n",
    "#                          metric = 'auc',\n",
    "#                          n_estimators=100, \n",
    "#                          learning_rate=0.1, \n",
    "#                          num_leaves=63, \n",
    "#                          min_samples_split=2)\n",
    "# df2 = data_train2.as_matrix()\n",
    "# X2= df2[:,1:]\n",
    "# y2 = df2[:,0]\n",
    "\n",
    "\n",
    "# LGBM2.fit(X2,y2)\n",
    "\n",
    "# LGBM3 = lgb.LGBMClassifier(\n",
    "                         \n",
    "#                          metric = 'auc',\n",
    "#                          n_estimators=100, \n",
    "#                          learning_rate=0.1, \n",
    "#                          num_leaves=63, \n",
    "#                          min_samples_split=2)\n",
    "# df3 = data_train3.as_matrix()\n",
    "# X3 = df3[:,1:]\n",
    "# y3= df3[:,0]\n",
    "\n",
    "\n",
    "# LGBM3.fit(X3,y3)\n",
    "\n",
    "# LGBM4 = lgb.LGBMClassifier(\n",
    "                         \n",
    "#                          metric = 'auc',\n",
    "#                          n_estimators=100, \n",
    "#                          learning_rate=0.1, \n",
    "#                          num_leaves=63, \n",
    "#                          min_samples_split=2)\n",
    "# df4 = data_train4.as_matrix()\n",
    "# X4 = df4[:,1:]\n",
    "# y4 = df4[:,0]\n",
    "# LGBM4.fit(X4,y4)\n",
    "\n",
    "# LGBM5 = lgb.LGBMClassifier(\n",
    "                         \n",
    "#                          metric = 'auc',\n",
    "#                          n_estimators=100, \n",
    "#                          learning_rate=0.1, \n",
    "#                          num_leaves=63, \n",
    "#                          min_samples_split=2)\n",
    "# df5 = data_train5.as_matrix()\n",
    "# X5 = df5[:,1:]\n",
    "# y5 = df5[:,0]\n",
    "# LGBM5.fit(X5,y5)"
   ]
  },
  {
   "cell_type": "code",
   "execution_count": null,
   "metadata": {},
   "outputs": [],
   "source": [
    "data_test = pd.read_csv(\"F:/contest/ATEC/test.csv\")\n",
    "data_test = data_test.fillna(data_test.mean())\n",
    "# data_test = data_test.fillna(data_train.median()[median])\n",
    "df_test = data_test.iloc[:,2:].as_matrix()\n",
    "# res = (LGBM1.predict_proba(df_test)[:,1] + LGBM2.predict_proba(df_test)[:,1] \n",
    "#        + LGBM3.predict_proba(df_test)[:,1] + LGBM4.predict_proba(df_test)[:,1]+ LGBM5.predict_proba(df_test)[:,1])/5\n"
   ]
  },
  {
   "cell_type": "code",
   "execution_count": null,
   "metadata": {},
   "outputs": [],
   "source": [
    "# tmp = pd.read_csv(\"F:/contest/ATEC/baseline.csv\")\n",
    "# (tmp['score']>0.5).sum()\n",
    "#\n",
    "res = LGBM1.predict_proba(df_test)[:,1]"
   ]
  },
  {
   "cell_type": "code",
   "execution_count": 8,
   "metadata": {},
   "outputs": [],
   "source": [
    "test_id = data_test.iloc[:,0]\n",
    "\n",
    "end = pd.DataFrame({'id':test_id, 'score': res})\n",
    "end.to_csv(\"F:/contest/ATEC/baseline_ensemble5.csv\",index = False)"
   ]
  },
  {
   "cell_type": "code",
   "execution_count": 14,
   "metadata": {},
   "outputs": [
    {
     "data": {
      "text/plain": [
       "0"
      ]
     },
     "execution_count": 14,
     "metadata": {},
     "output_type": "execute_result"
    }
   ],
   "source": [
    "(res>0.5).sum()"
   ]
  }
 ],
 "metadata": {
  "kernelspec": {
   "display_name": "Python 3",
   "language": "python",
   "name": "python3"
  },
  "language_info": {
   "codemirror_mode": {
    "name": "ipython",
    "version": 3
   },
   "file_extension": ".py",
   "mimetype": "text/x-python",
   "name": "python",
   "nbconvert_exporter": "python",
   "pygments_lexer": "ipython3",
   "version": "3.6.4"
  }
 },
 "nbformat": 4,
 "nbformat_minor": 2
}
