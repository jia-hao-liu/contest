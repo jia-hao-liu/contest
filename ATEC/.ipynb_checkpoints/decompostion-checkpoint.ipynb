{
 "cells": [
  {
   "cell_type": "code",
   "execution_count": 1,
   "metadata": {},
   "outputs": [],
   "source": [
    "import numpy as np\n",
    "import pandas as pd\n",
    "\n",
    "data_train = pd.read_csv(\"F:/contest/ATEC/train.csv\")\n",
    "data_train = data_train[data_train.label != -1].drop(['date','id'] , axis = 1)"
   ]
  },
  {
   "cell_type": "code",
   "execution_count": 3,
   "metadata": {},
   "outputs": [],
   "source": [
    "data_train[data_train.label == 1] = data_train[data_train.label == 1].fillna(data_train[data_train.label == 1].mean())\n",
    "data_train[data_train.label == 0] = data_train[data_train.label == 0].fillna(data_train[data_train.label == 0].mean())"
   ]
  },
  {
   "cell_type": "code",
   "execution_count": null,
   "metadata": {},
   "outputs": [],
   "source": [
    "%%time\n",
    "from sklearn.decomposition import TruncatedSVD, PCA, FastICA\n",
    "from sklearn.random_projection import GaussianRandomProjection, SparseRandomProjection\n",
    "\n",
    "\n",
    "n_comp = 240\n",
    "\n",
    "# tSVD\n",
    "# tsvd = TruncatedSVD(n_components=n_comp, random_state=420)\n",
    "# tsvd_resulttsvd.fit(data_train)\n",
    "# tsvd_results_test = tsvd.transform(data_test)\n",
    "\n",
    "PCA\n",
    "pca = PCA(n_components=n_comp, random_state=420)\n",
    "pca2_results_train = pca.fit_transform(data_train)\n",
    "# pca2_results_test = pca.transform(data_test)\n",
    "\n",
    "# # ICA\n",
    "# ica = FastICA(n_components=n_comp, random_state=420)\n",
    "# ica.fit(data_train)\n",
    "# ica2_results_test = ica.transform(data_test)\n",
    "\n",
    "# # GRP\n",
    "# grp = GaussianRandomProjection(n_components=n_comp, eps=0.1, random_state=420)\n",
    "# grp_results_train = grp.fit_transform(data_train)\n",
    "# grp_results_test = grp.transform(data_test)\n",
    "\n",
    "# # SRP\n",
    "# srp = SparseRandomProjection(n_components=n_comp, dense_output=True, random_state=420)\n",
    "# srp_results_train = srp.fit_transform(data_train)\n",
    "# srp_results_test = srp.transform(data_test)\n",
    "\n",
    "\n",
    "# for i in range(134, n_comp + 1):\n",
    "#     data_train['pca_' + str(i)] = pca2_results_train[:, i - 1]\n",
    "# #     data_test['pca_' + str(i)] = pca2_results_test[:, i - 1]\n",
    "\n",
    "#     data_train['ica_' + str(i)] = ica2_results_train[:, i - 1]\n",
    "# #     data_test['ica_' + str(i)] = ica2_results_test[:, i - 1]\n",
    "\n",
    "#     data_train['tsvd_' + str(i)] = tsvd_results_train[:, i - 1]\n",
    "#     data_test['tsvd_' + str(i)] = tsvd_results_test[:, i - 1]\n",
    "\n",
    "#     data_train['grp_' + str(i)] = grp_results_train[:, i - 1]\n",
    "#     data_test['grp_' + str(i)] = grp_results_test[:, i - 1]\n",
    "\n",
    "#     data_train['srp_' + str(i)] = srp_results_train[:, i - 1]\n",
    "#     data_test['srp_' + str(i)] = srp_results_test[:, i - 1]\n",
    "    \n",
    "\n"
   ]
  },
  {
   "cell_type": "code",
   "execution_count": null,
   "metadata": {},
   "outputs": [],
   "source": [
    "pd.concat([dt.iloc[:,0],data_train,dt.iloc[:,298:]], axis = 1)"
   ]
  },
  {
   "cell_type": "code",
   "execution_count": null,
   "metadata": {},
   "outputs": [],
   "source": [
    "X_train = data_train.iloc[:,1:].as_matrix()\n",
    "y_train = data_train.iloc[:,0].as_matrix()\n",
    "\n",
    "X_test = data_test.iloc[:,1:].as_matrix()\n",
    "y_test = data_test.iloc[:,0].as_matrix()"
   ]
  },
  {
   "cell_type": "code",
   "execution_count": 8,
   "metadata": {
    "collapsed": true
   },
   "outputs": [
    {
     "data": {
      "text/plain": [
       "f1           0.0\n",
       "f2           0.0\n",
       "f3           0.0\n",
       "f4           0.0\n",
       "f5      100807.0\n",
       "f6           0.0\n",
       "f7           5.0\n",
       "f8           1.0\n",
       "f9           1.0\n",
       "f10          1.0\n",
       "f11          1.0\n",
       "f12          2.0\n",
       "f13          0.0\n",
       "f14          2.0\n",
       "f15          0.0\n",
       "f16          2.0\n",
       "f17          2.0\n",
       "f18          2.0\n",
       "f19          1.0\n",
       "f20         31.0\n",
       "f21         61.0\n",
       "f22        142.0\n",
       "f23        245.0\n",
       "f24          0.0\n",
       "f25          1.0\n",
       "f26          0.0\n",
       "f27          1.0\n",
       "f28          0.0\n",
       "f29          0.0\n",
       "f30          1.0\n",
       "          ...   \n",
       "f268         1.0\n",
       "f269         1.0\n",
       "f270         2.0\n",
       "f271         2.0\n",
       "f272         2.0\n",
       "f273         2.0\n",
       "f274         1.0\n",
       "f275         1.0\n",
       "f276         1.0\n",
       "f277         1.0\n",
       "f278        27.0\n",
       "f279       297.0\n",
       "f280       302.0\n",
       "f281       384.0\n",
       "f282       770.0\n",
       "f283        20.0\n",
       "f284        99.0\n",
       "f285       102.0\n",
       "f286       124.0\n",
       "f287       140.0\n",
       "f288       301.0\n",
       "f289       312.0\n",
       "f290       328.0\n",
       "f291        85.0\n",
       "f292       302.0\n",
       "f293       201.0\n",
       "f294       203.0\n",
       "f295       203.0\n",
       "f296        61.0\n",
       "f297       201.0\n",
       "Name: 0, Length: 297, dtype: float64"
      ]
     },
     "execution_count": 8,
     "metadata": {},
     "output_type": "execute_result"
    }
   ],
   "source": [
    "%%time\n",
    "import lightgbm as lgb\n",
    "LGBM = lgb.LGBMClassifier(\n",
    "                         is_unbalance = 'True',\n",
    "                         metric = 'auc',\n",
    "                         n_estimators=100, \n",
    "                         learning_rate=0.1, \n",
    "                         num_leaves=63, \n",
    "                         min_samples_split=2)\n",
    "\n",
    "\n",
    "\n",
    "LGBM.fit(X_train,y_train)\n",
    "res = LGBM.predict(X_test)\n"
   ]
  },
  {
   "cell_type": "code",
   "execution_count": null,
   "metadata": {},
   "outputs": [],
   "source": [
    "from sklearn.metrics import confusion_matrix,precision_recall_curve,auc,roc_auc_score,roc_curve,recall_score\n",
    "\n",
    "auc = roc_auc_score(y_test, res)\n",
    "recall_acc = recall_score(y_test,res)"
   ]
  },
  {
   "cell_type": "code",
   "execution_count": 19,
   "metadata": {},
   "outputs": [],
   "source": [
    "data_train.to_csv(\"F:/contest/ATEC/decomposition.csv\")"
   ]
  },
  {
   "cell_type": "code",
   "execution_count": 25,
   "metadata": {},
   "outputs": [
    {
     "name": "stdout",
     "output_type": "stream",
     "text": [
      "Wall time: 38min 47s\n"
     ]
    }
   ],
   "source": [
    "%%time\n",
    "pd.DataFrame(np.concatenate([pca2_results_train,ica2_results_train,tsvd_results_train], axis =1)).to_csv(\"F:/contest/ATEC/PCA.csv\", index = False)"
   ]
  },
  {
   "cell_type": "code",
   "execution_count": 6,
   "metadata": {},
   "outputs": [],
   "source": [
    "data_test = pd.read_csv(\"F:/contest/ATEC/test.csv\")\n",
    "data_test = data_test.drop(['date', 'id'], axis = 1)\n",
    "data_test = data_test.fillna(data_test.mean())"
   ]
  },
  {
   "cell_type": "code",
   "execution_count": 13,
   "metadata": {},
   "outputs": [
    {
     "name": "stdout",
     "output_type": "stream",
     "text": [
      "Wall time: 24min 44s\n"
     ]
    }
   ],
   "source": [
    "%%time\n",
    "pd.concat([data_test,pd.DataFrame(np.concatenate([pca2_results_test,ica2_results_test,tsvd_results_test],axis = 1))], axis = 1).to_csv(\"F:/contest/ATEC/decomposition_test.csv\")"
   ]
  }
 ],
 "metadata": {
  "kernelspec": {
   "display_name": "Python 3",
   "language": "python",
   "name": "python3"
  },
  "language_info": {
   "codemirror_mode": {
    "name": "ipython",
    "version": 3
   },
   "file_extension": ".py",
   "mimetype": "text/x-python",
   "name": "python",
   "nbconvert_exporter": "python",
   "pygments_lexer": "ipython3",
   "version": "3.6.4"
  }
 },
 "nbformat": 4,
 "nbformat_minor": 2
}
