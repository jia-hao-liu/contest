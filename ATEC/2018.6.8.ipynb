{
 "cells": [
  {
   "cell_type": "code",
   "execution_count": 1,
   "metadata": {},
   "outputs": [],
   "source": [
    "import numpy as np\n",
    "import pandas as pd\n",
    "\n",
    "data_train = pd.read_csv(\"F:/contest/ATEC/train.csv\")\n",
    "# data_test = pd.read_csv(\"F:/contest/ATEC/test.csv\")\n",
    "data_train = data_train[data_train.label != -1].drop(['id'], axis = 1)\n",
    "# data_train = data_train.drop(['id'], axis = 1)\n",
    "# data_test = data_test.drop(['id'], axis = 1)"
   ]
  },
  {
   "cell_type": "code",
   "execution_count": 221,
   "metadata": {},
   "outputs": [],
   "source": [
    "# data_train['ifexist5'] = np.where(data_train.f5.isnull() == True, -1, 1 )\n",
    "# data_train['ifexist20-23'] = np.where(data_train.f20.isnull() == True, -1, 1 )\n",
    "# data_train['ifexist24-27'] = np.where(data_train.f24.isnull() == True, -1, 1)\n",
    "# data_train['ifexist28-31'] = np.where(data_train.f28.isnull() == True, -1, 1)\n",
    "# data_train['ifexist32-35'] = np.where(data_train.f32.isnull() == True, -1, 1)\n",
    "# data_train['ifexist36-47'] = np.where(data_train.f36.isnull() == True, -1, 1)\n",
    "# data_train['ifexist48-51'] = np.where(data_train.f48.isnull() == True, -1, 1)\n",
    "# data_train['ifexist52-53'] = np.where(data_train.f52.isnull() == True, -1, 1)\n",
    "# data_train['ifexist54-63'] = np.where(data_train.f54.isnull() == True, -1, 1)\n",
    "# data_train['ifexist64-71'] = np.where(data_train.f64.isnull() == True, -1, 1)\n",
    "# data_train['ifexist72-75'] = np.where(data_train.f72.isnull() == True, -1, 1)\n",
    "# data_train['ifexist76-101'] = np.where(data_train.f76.isnull() == True, -1, 1)\n",
    "# data_train['ifexist102-106'] = np.where(data_train.f102.isnull() == True, -1, 1)\n",
    "# data_train['ifexist107-110'] = np.where(data_train.f107.isnull() == True, -1, 1)\n",
    "# data_train['ifexist111-154'] = np.where(data_train.f111.isnull() == True, -1, 1)\n",
    "# data_train['ifexist155-160'] = np.where(data_train.f155.isnull() == True, -1, 1)\n",
    "# data_train['ifexist161-165'] = np.where(data_train.f161.isnull() == True, -1, 1)\n",
    "# data_train['ifexist166-210'] = np.where(data_train.f166.isnull() == True, -1, 1)\n",
    "# data_train['ifexist211-253'] = np.where(data_train.f211.isnull() == True, -1, 1)\n",
    "# data_train['ifexist254-277'] = np.where(data_train.f254.isnull() == True, -1, 1)\n",
    "# data_train['ifexist278-297'] = np.where(data_train.f278.isnull() == True, -1, 1)\n",
    "\n",
    "dt = data_train\n",
    "data_train = data_test\n",
    "\n",
    "data_train['ifexist5'] = np.where(data_train.f5.isnull() == True, -1, 1 )\n",
    "data_train['ifexist20-23'] = np.where(data_train.f20.isnull() == True, -1, 1 )\n",
    "data_train['ifexist24-27'] = np.where(data_train.f24.isnull() == True, -1, 1)\n",
    "data_train['ifexist28-31'] = np.where(data_train.f28.isnull() == True, -1, 1)\n",
    "data_train['ifexist32-35'] = np.where(data_train.f32.isnull() == True, -1, 1)\n",
    "data_train['ifexist36-47'] = np.where(data_train.f36.isnull() == True, -1, 1)\n",
    "data_train['ifexist48-51'] = np.where(data_train.f48.isnull() == True, -1, 1)\n",
    "data_train['ifexist52-53'] = np.where(data_train.f52.isnull() == True, -1, 1)\n",
    "data_train['ifexist54-63'] = np.where(data_train.f54.isnull() == True, -1, 1)\n",
    "data_train['ifexist64-71'] = np.where(data_train.f64.isnull() == True, -1, 1)\n",
    "data_train['ifexist72-75'] = np.where(data_train.f72.isnull() == True, -1, 1)\n",
    "data_train['ifexist76-101'] = np.where(data_train.f76.isnull() == True, -1, 1)\n",
    "data_train['ifexist102-106'] = np.where(data_train.f102.isnull() == True, -1, 1)\n",
    "data_train['ifexist107-110'] = np.where(data_train.f107.isnull() == True, -1, 1)\n",
    "data_train['ifexist111-154'] = np.where(data_train.f111.isnull() == True, -1, 1)\n",
    "data_train['ifexist155-160'] = np.where(data_train.f155.isnull() == True, -1, 1)\n",
    "data_train['ifexist161-165'] = np.where(data_train.f161.isnull() == True, -1, 1)\n",
    "data_train['ifexist166-210'] = np.where(data_train.f166.isnull() == True, -1, 1)\n",
    "data_train['ifexist211-253'] = np.where(data_train.f211.isnull() == True, -1, 1)\n",
    "data_train['ifexist254-277'] = np.where(data_train.f254.isnull() == True, -1, 1)\n",
    "data_train['ifexist278-297'] = np.where(data_train.f278.isnull() == True, -1, 1)\n",
    "\n",
    "\n",
    "data_test = data_train\n",
    "data_train = dt\n",
    "del dt"
   ]
  },
  {
   "cell_type": "code",
   "execution_count": 218,
   "metadata": {},
   "outputs": [],
   "source": [
    "col = list(data_train.columns)[2:]\n",
    "giveup =[]\n",
    "for i in col:\n",
    "    if data_train[i].isnull().sum() > 250000 and data_train[i].isnull().sum() < 300000:\n",
    "#     if data_train[i].isnull().sum()/data_train.shape[0] > 0.21:\n",
    "        giveup.append(i)\n",
    "        \n",
    "col1 = [i for i in col if i not in giveup]\n",
    "         "
   ]
  },
  {
   "cell_type": "code",
   "execution_count": 250,
   "metadata": {},
   "outputs": [
    {
     "ename": "MemoryError",
     "evalue": "",
     "output_type": "error",
     "traceback": [
      "\u001b[1;31m---------------------------------------------------------------------------\u001b[0m",
      "\u001b[1;31mMemoryError\u001b[0m                               Traceback (most recent call last)",
      "\u001b[1;32m<timed exec>\u001b[0m in \u001b[0;36m<module>\u001b[1;34m()\u001b[0m\n",
      "\u001b[1;32mF:\\python\\venv\\anaconda\\lib\\site-packages\\lightgbm\\sklearn.py\u001b[0m in \u001b[0;36mfit\u001b[1;34m(self, X, y, sample_weight, init_score, eval_set, eval_names, eval_sample_weight, eval_class_weight, eval_init_score, eval_metric, early_stopping_rounds, verbose, feature_name, categorical_feature, callbacks)\u001b[0m\n\u001b[0;32m    673\u001b[0m                                         \u001b[0mverbose\u001b[0m\u001b[1;33m=\u001b[0m\u001b[0mverbose\u001b[0m\u001b[1;33m,\u001b[0m \u001b[0mfeature_name\u001b[0m\u001b[1;33m=\u001b[0m\u001b[0mfeature_name\u001b[0m\u001b[1;33m,\u001b[0m\u001b[1;33m\u001b[0m\u001b[0m\n\u001b[0;32m    674\u001b[0m                                         \u001b[0mcategorical_feature\u001b[0m\u001b[1;33m=\u001b[0m\u001b[0mcategorical_feature\u001b[0m\u001b[1;33m,\u001b[0m\u001b[1;33m\u001b[0m\u001b[0m\n\u001b[1;32m--> 675\u001b[1;33m                                         callbacks=callbacks)\n\u001b[0m\u001b[0;32m    676\u001b[0m         \u001b[1;32mreturn\u001b[0m \u001b[0mself\u001b[0m\u001b[1;33m\u001b[0m\u001b[0m\n\u001b[0;32m    677\u001b[0m \u001b[1;33m\u001b[0m\u001b[0m\n",
      "\u001b[1;32mF:\\python\\venv\\anaconda\\lib\\site-packages\\lightgbm\\sklearn.py\u001b[0m in \u001b[0;36mfit\u001b[1;34m(self, X, y, sample_weight, init_score, group, eval_set, eval_names, eval_sample_weight, eval_class_weight, eval_init_score, eval_group, eval_metric, early_stopping_rounds, verbose, feature_name, categorical_feature, callbacks)\u001b[0m\n\u001b[0;32m    467\u001b[0m                               \u001b[0mverbose_eval\u001b[0m\u001b[1;33m=\u001b[0m\u001b[0mverbose\u001b[0m\u001b[1;33m,\u001b[0m \u001b[0mfeature_name\u001b[0m\u001b[1;33m=\u001b[0m\u001b[0mfeature_name\u001b[0m\u001b[1;33m,\u001b[0m\u001b[1;33m\u001b[0m\u001b[0m\n\u001b[0;32m    468\u001b[0m                               \u001b[0mcategorical_feature\u001b[0m\u001b[1;33m=\u001b[0m\u001b[0mcategorical_feature\u001b[0m\u001b[1;33m,\u001b[0m\u001b[1;33m\u001b[0m\u001b[0m\n\u001b[1;32m--> 469\u001b[1;33m                               callbacks=callbacks)\n\u001b[0m\u001b[0;32m    470\u001b[0m \u001b[1;33m\u001b[0m\u001b[0m\n\u001b[0;32m    471\u001b[0m         \u001b[1;32mif\u001b[0m \u001b[0mevals_result\u001b[0m\u001b[1;33m:\u001b[0m\u001b[1;33m\u001b[0m\u001b[0m\n",
      "\u001b[1;32mF:\\python\\venv\\anaconda\\lib\\site-packages\\lightgbm\\engine.py\u001b[0m in \u001b[0;36mtrain\u001b[1;34m(params, train_set, num_boost_round, valid_sets, valid_names, fobj, feval, init_model, feature_name, categorical_feature, early_stopping_rounds, evals_result, verbose_eval, learning_rates, keep_training_booster, callbacks)\u001b[0m\n\u001b[0;32m    178\u001b[0m     \u001b[1;31m# construct booster\u001b[0m\u001b[1;33m\u001b[0m\u001b[1;33m\u001b[0m\u001b[0m\n\u001b[0;32m    179\u001b[0m     \u001b[1;32mtry\u001b[0m\u001b[1;33m:\u001b[0m\u001b[1;33m\u001b[0m\u001b[0m\n\u001b[1;32m--> 180\u001b[1;33m         \u001b[0mbooster\u001b[0m \u001b[1;33m=\u001b[0m \u001b[0mBooster\u001b[0m\u001b[1;33m(\u001b[0m\u001b[0mparams\u001b[0m\u001b[1;33m=\u001b[0m\u001b[0mparams\u001b[0m\u001b[1;33m,\u001b[0m \u001b[0mtrain_set\u001b[0m\u001b[1;33m=\u001b[0m\u001b[0mtrain_set\u001b[0m\u001b[1;33m)\u001b[0m\u001b[1;33m\u001b[0m\u001b[0m\n\u001b[0m\u001b[0;32m    181\u001b[0m         \u001b[1;32mif\u001b[0m \u001b[0mis_valid_contain_train\u001b[0m\u001b[1;33m:\u001b[0m\u001b[1;33m\u001b[0m\u001b[0m\n\u001b[0;32m    182\u001b[0m             \u001b[0mbooster\u001b[0m\u001b[1;33m.\u001b[0m\u001b[0mset_train_data_name\u001b[0m\u001b[1;33m(\u001b[0m\u001b[0mtrain_data_name\u001b[0m\u001b[1;33m)\u001b[0m\u001b[1;33m\u001b[0m\u001b[0m\n",
      "\u001b[1;32mF:\\python\\venv\\anaconda\\lib\\site-packages\\lightgbm\\basic.py\u001b[0m in \u001b[0;36m__init__\u001b[1;34m(self, params, train_set, model_file, silent)\u001b[0m\n\u001b[0;32m   1301\u001b[0m             \u001b[0mself\u001b[0m\u001b[1;33m.\u001b[0m\u001b[0mhandle\u001b[0m \u001b[1;33m=\u001b[0m \u001b[0mctypes\u001b[0m\u001b[1;33m.\u001b[0m\u001b[0mc_void_p\u001b[0m\u001b[1;33m(\u001b[0m\u001b[1;33m)\u001b[0m\u001b[1;33m\u001b[0m\u001b[0m\n\u001b[0;32m   1302\u001b[0m             _safe_call(_LIB.LGBM_BoosterCreate(\n\u001b[1;32m-> 1303\u001b[1;33m                 \u001b[0mtrain_set\u001b[0m\u001b[1;33m.\u001b[0m\u001b[0mconstruct\u001b[0m\u001b[1;33m(\u001b[0m\u001b[1;33m)\u001b[0m\u001b[1;33m.\u001b[0m\u001b[0mhandle\u001b[0m\u001b[1;33m,\u001b[0m\u001b[1;33m\u001b[0m\u001b[0m\n\u001b[0m\u001b[0;32m   1304\u001b[0m                 \u001b[0mc_str\u001b[0m\u001b[1;33m(\u001b[0m\u001b[0mparams_str\u001b[0m\u001b[1;33m)\u001b[0m\u001b[1;33m,\u001b[0m\u001b[1;33m\u001b[0m\u001b[0m\n\u001b[0;32m   1305\u001b[0m                 ctypes.byref(self.handle)))\n",
      "\u001b[1;32mF:\\python\\venv\\anaconda\\lib\\site-packages\\lightgbm\\basic.py\u001b[0m in \u001b[0;36mconstruct\u001b[1;34m(self)\u001b[0m\n\u001b[0;32m    854\u001b[0m                                 \u001b[0mweight\u001b[0m\u001b[1;33m=\u001b[0m\u001b[0mself\u001b[0m\u001b[1;33m.\u001b[0m\u001b[0mweight\u001b[0m\u001b[1;33m,\u001b[0m \u001b[0mgroup\u001b[0m\u001b[1;33m=\u001b[0m\u001b[0mself\u001b[0m\u001b[1;33m.\u001b[0m\u001b[0mgroup\u001b[0m\u001b[1;33m,\u001b[0m \u001b[0minit_score\u001b[0m\u001b[1;33m=\u001b[0m\u001b[0mself\u001b[0m\u001b[1;33m.\u001b[0m\u001b[0minit_score\u001b[0m\u001b[1;33m,\u001b[0m\u001b[1;33m\u001b[0m\u001b[0m\n\u001b[0;32m    855\u001b[0m                                 \u001b[0mpredictor\u001b[0m\u001b[1;33m=\u001b[0m\u001b[0mself\u001b[0m\u001b[1;33m.\u001b[0m\u001b[0m_predictor\u001b[0m\u001b[1;33m,\u001b[0m \u001b[0msilent\u001b[0m\u001b[1;33m=\u001b[0m\u001b[0mself\u001b[0m\u001b[1;33m.\u001b[0m\u001b[0msilent\u001b[0m\u001b[1;33m,\u001b[0m \u001b[0mfeature_name\u001b[0m\u001b[1;33m=\u001b[0m\u001b[0mself\u001b[0m\u001b[1;33m.\u001b[0m\u001b[0mfeature_name\u001b[0m\u001b[1;33m,\u001b[0m\u001b[1;33m\u001b[0m\u001b[0m\n\u001b[1;32m--> 856\u001b[1;33m                                 categorical_feature=self.categorical_feature, params=self.params)\n\u001b[0m\u001b[0;32m    857\u001b[0m             \u001b[1;32mif\u001b[0m \u001b[0mself\u001b[0m\u001b[1;33m.\u001b[0m\u001b[0mfree_raw_data\u001b[0m\u001b[1;33m:\u001b[0m\u001b[1;33m\u001b[0m\u001b[0m\n\u001b[0;32m    858\u001b[0m                 \u001b[0mself\u001b[0m\u001b[1;33m.\u001b[0m\u001b[0mdata\u001b[0m \u001b[1;33m=\u001b[0m \u001b[1;32mNone\u001b[0m\u001b[1;33m\u001b[0m\u001b[0m\n",
      "\u001b[1;32mF:\\python\\venv\\anaconda\\lib\\site-packages\\lightgbm\\basic.py\u001b[0m in \u001b[0;36m_lazy_init\u001b[1;34m(self, data, label, reference, weight, group, init_score, predictor, silent, feature_name, categorical_feature, params)\u001b[0m\n\u001b[0;32m    646\u001b[0m             \u001b[0mself\u001b[0m\u001b[1;33m.\u001b[0m\u001b[0mpandas_categorical\u001b[0m \u001b[1;33m=\u001b[0m \u001b[0mreference\u001b[0m\u001b[1;33m.\u001b[0m\u001b[0mpandas_categorical\u001b[0m\u001b[1;33m\u001b[0m\u001b[0m\n\u001b[0;32m    647\u001b[0m             \u001b[0mcategorical_feature\u001b[0m \u001b[1;33m=\u001b[0m \u001b[0mreference\u001b[0m\u001b[1;33m.\u001b[0m\u001b[0mcategorical_feature\u001b[0m\u001b[1;33m\u001b[0m\u001b[0m\n\u001b[1;32m--> 648\u001b[1;33m         \u001b[0mdata\u001b[0m\u001b[1;33m,\u001b[0m \u001b[0mfeature_name\u001b[0m\u001b[1;33m,\u001b[0m \u001b[0mcategorical_feature\u001b[0m\u001b[1;33m,\u001b[0m \u001b[0mself\u001b[0m\u001b[1;33m.\u001b[0m\u001b[0mpandas_categorical\u001b[0m \u001b[1;33m=\u001b[0m \u001b[0m_data_from_pandas\u001b[0m\u001b[1;33m(\u001b[0m\u001b[0mdata\u001b[0m\u001b[1;33m,\u001b[0m \u001b[0mfeature_name\u001b[0m\u001b[1;33m,\u001b[0m \u001b[0mcategorical_feature\u001b[0m\u001b[1;33m,\u001b[0m \u001b[0mself\u001b[0m\u001b[1;33m.\u001b[0m\u001b[0mpandas_categorical\u001b[0m\u001b[1;33m)\u001b[0m\u001b[1;33m\u001b[0m\u001b[0m\n\u001b[0m\u001b[0;32m    649\u001b[0m         \u001b[0mlabel\u001b[0m \u001b[1;33m=\u001b[0m \u001b[0m_label_from_pandas\u001b[0m\u001b[1;33m(\u001b[0m\u001b[0mlabel\u001b[0m\u001b[1;33m)\u001b[0m\u001b[1;33m\u001b[0m\u001b[0m\n\u001b[0;32m    650\u001b[0m         \u001b[0mself\u001b[0m\u001b[1;33m.\u001b[0m\u001b[0mdata_has_header\u001b[0m \u001b[1;33m=\u001b[0m \u001b[1;32mFalse\u001b[0m\u001b[1;33m\u001b[0m\u001b[0m\n",
      "\u001b[1;32mF:\\python\\venv\\anaconda\\lib\\site-packages\\lightgbm\\basic.py\u001b[0m in \u001b[0;36m_data_from_pandas\u001b[1;34m(data, feature_name, categorical_feature, pandas_categorical)\u001b[0m\n\u001b[0;32m    269\u001b[0m             \u001b[0mmsg\u001b[0m \u001b[1;33m=\u001b[0m \u001b[1;34m\"\"\"DataFrame.dtypes for data must be int, float or bool. Did not expect the data types in fields \"\"\"\u001b[0m\u001b[1;33m\u001b[0m\u001b[0m\n\u001b[0;32m    270\u001b[0m             \u001b[1;32mraise\u001b[0m \u001b[0mValueError\u001b[0m\u001b[1;33m(\u001b[0m\u001b[0mmsg\u001b[0m \u001b[1;33m+\u001b[0m \u001b[1;34m', '\u001b[0m\u001b[1;33m.\u001b[0m\u001b[0mjoin\u001b[0m\u001b[1;33m(\u001b[0m\u001b[0mbad_fields\u001b[0m\u001b[1;33m)\u001b[0m\u001b[1;33m)\u001b[0m\u001b[1;33m\u001b[0m\u001b[0m\n\u001b[1;32m--> 271\u001b[1;33m         \u001b[0mdata\u001b[0m \u001b[1;33m=\u001b[0m \u001b[0mdata\u001b[0m\u001b[1;33m.\u001b[0m\u001b[0mvalues\u001b[0m\u001b[1;33m.\u001b[0m\u001b[0mastype\u001b[0m\u001b[1;33m(\u001b[0m\u001b[1;34m'float'\u001b[0m\u001b[1;33m)\u001b[0m\u001b[1;33m\u001b[0m\u001b[0m\n\u001b[0m\u001b[0;32m    272\u001b[0m     \u001b[1;32melse\u001b[0m\u001b[1;33m:\u001b[0m\u001b[1;33m\u001b[0m\u001b[0m\n\u001b[0;32m    273\u001b[0m         \u001b[1;32mif\u001b[0m \u001b[0mfeature_name\u001b[0m \u001b[1;33m==\u001b[0m \u001b[1;34m'auto'\u001b[0m\u001b[1;33m:\u001b[0m\u001b[1;33m\u001b[0m\u001b[0m\n",
      "\u001b[1;31mMemoryError\u001b[0m: "
     ]
    }
   ],
   "source": [
    "%%time\n",
    "import lightgbm as lgb\n",
    "\n",
    "lg = lgb.LGBMClassifier(\n",
    "                         n_estimators=100,  \n",
    "                         max_depth = 7, \n",
    "                         min_samples_split=2,\n",
    "                         min_child_samples=100)\n",
    "\n",
    "lg.fit(data_train[col1], data_train['label'])\n",
    "\n",
    "res2 = lg.predict_proba(data_test[col1])[:,1]"
   ]
  },
  {
   "cell_type": "code",
   "execution_count": 234,
   "metadata": {},
   "outputs": [
    {
     "data": {
      "text/plain": [
       "3939.1490411264567"
      ]
     },
     "execution_count": 234,
     "metadata": {},
     "output_type": "execute_result"
    }
   ],
   "source": [
    "# (res2[b]>0.5).sum()\n",
    "res2.sum()"
   ]
  },
  {
   "cell_type": "code",
   "execution_count": 241,
   "metadata": {},
   "outputs": [],
   "source": [
    "\n",
    "# feature_importance = pd.DataFrame({'feature': col1,'importance':lg.feature_importances_} ).sort_values(by = 'importance' )\n",
    "col1.remove('f53')"
   ]
  },
  {
   "cell_type": "code",
   "execution_count": 204,
   "metadata": {},
   "outputs": [],
   "source": [
    "for i in range(8):\n",
    "    col1.remove('f2' + str(i))"
   ]
  },
  {
   "cell_type": "code",
   "execution_count": null,
   "metadata": {},
   "outputs": [],
   "source": []
  },
  {
   "cell_type": "code",
   "execution_count": 5,
   "metadata": {},
   "outputs": [],
   "source": [
    "data_train = data_train.reset_index()"
   ]
  },
  {
   "cell_type": "code",
   "execution_count": 78,
   "metadata": {},
   "outputs": [
    {
     "name": "stdout",
     "output_type": "stream",
     "text": [
      "Wall time: 4min 3s\n"
     ]
    }
   ],
   "source": [
    "%%time\n",
    "\n",
    "giveup = []\n",
    "def abandon(data):\n",
    "    if data.isnull().sum()>200:\n",
    "        giveup.append(data['index'])\n",
    "        \n",
    "data_train.apply(abandon, axis = 1)"
   ]
  },
  {
   "cell_type": "code",
   "execution_count": 86,
   "metadata": {},
   "outputs": [
    {
     "data": {
      "text/plain": [
       "23.0        None\n",
       "25.0        None\n",
       "31.0        None\n",
       "47.0        None\n",
       "51.0        None\n",
       "68.0        None\n",
       "69.0        None\n",
       "77.0        None\n",
       "147.0       None\n",
       "156.0       None\n",
       "173.0       None\n",
       "174.0       None\n",
       "205.0       None\n",
       "209.0       None\n",
       "218.0       None\n",
       "220.0       None\n",
       "226.0       None\n",
       "227.0       None\n",
       "232.0       None\n",
       "236.0       None\n",
       "239.0       None\n",
       "244.0       None\n",
       "251.0       None\n",
       "295.0       None\n",
       "309.0       None\n",
       "311.0       None\n",
       "312.0       None\n",
       "317.0       None\n",
       "325.0       None\n",
       "329.0       None\n",
       "            ... \n",
       "989826.0    None\n",
       "989831.0    None\n",
       "989832.0    None\n",
       "989833.0    None\n",
       "989837.0    None\n",
       "989842.0    None\n",
       "989845.0    None\n",
       "989846.0    None\n",
       "989851.0    None\n",
       "989855.0    None\n",
       "989887.0    None\n",
       "989889.0    None\n",
       "989893.0    None\n",
       "989896.0    None\n",
       "989901.0    None\n",
       "989912.0    None\n",
       "989919.0    None\n",
       "989922.0    None\n",
       "989924.0    None\n",
       "989931.0    None\n",
       "989937.0    None\n",
       "989939.0    None\n",
       "989953.0    None\n",
       "989956.0    None\n",
       "989959.0    None\n",
       "989961.0    None\n",
       "989979.0    None\n",
       "989980.0    None\n",
       "989981.0    None\n",
       "989990.0    None\n",
       "Length: 130807, dtype: object"
      ]
     },
     "execution_count": 86,
     "metadata": {},
     "output_type": "execute_result"
    }
   ],
   "source": [
    "giveup2 = []\n",
    "def abandon(data):\n",
    "    if data.isnull().sum()>240:\n",
    "        giveup2.append(data['index'])\n",
    "data_train.loc[giveup1].apply(abandon,axis = 1)"
   ]
  },
  {
   "cell_type": "code",
   "execution_count": 102,
   "metadata": {},
   "outputs": [],
   "source": [
    "data_train.to_csv('F:/contest/ATEC/train_giveup240.csv', index = False)"
   ]
  },
  {
   "cell_type": "code",
   "execution_count": 14,
   "metadata": {},
   "outputs": [],
   "source": [
    "import numpy as np\n",
    "import pandas as pd\n",
    "\n",
    "# lg = pd.read_csv(\"F:/contest/ATEC/lgb_fill-1_0.423.csv\")\n",
    "# lgbxgb = pd.read_csv('F:/contest/ATEC/timeline-xgblgb.csv')\n",
    "lgb = pd.read_csv('F:/contest/ATEC/lgb_fill0_nominchild_0.418.csv')"
   ]
  },
  {
   "cell_type": "code",
   "execution_count": 16,
   "metadata": {},
   "outputs": [],
   "source": [
    "lg.score = lg.score.rank()\n",
    "lgbxgb.score = lgbxgb.score.rank()\n",
    "lgb.score = lgb.score.rank()"
   ]
  },
  {
   "cell_type": "code",
   "execution_count": 21,
   "metadata": {},
   "outputs": [
    {
     "data": {
      "text/plain": [
       "0         178477.0\n",
       "1         469291.0\n",
       "2         171282.0\n",
       "3         244788.0\n",
       "4         276568.0\n",
       "5         342524.0\n",
       "6         393960.0\n",
       "7         202068.0\n",
       "8         466442.0\n",
       "9         299929.0\n",
       "10        151960.0\n",
       "11        307716.0\n",
       "12        217986.0\n",
       "13        247175.0\n",
       "14        345415.0\n",
       "15        291536.0\n",
       "16        366353.0\n",
       "17        463724.0\n",
       "18         60310.0\n",
       "19        218182.0\n",
       "20        377535.0\n",
       "21        127966.0\n",
       "22        138949.0\n",
       "23        312810.0\n",
       "24          5724.0\n",
       "25         91261.0\n",
       "26        297107.0\n",
       "27        482934.0\n",
       "28        456755.0\n",
       "29        206125.0\n",
       "            ...   \n",
       "491638    211863.0\n",
       "491639    354228.0\n",
       "491640    172729.0\n",
       "491641    315096.0\n",
       "491642     90748.0\n",
       "491643    217177.0\n",
       "491644     30000.0\n",
       "491645    317438.0\n",
       "491646     50122.0\n",
       "491647    361075.0\n",
       "491648    107369.0\n",
       "491649     10110.0\n",
       "491650    379982.0\n",
       "491651    413805.0\n",
       "491652    449998.0\n",
       "491653    277676.0\n",
       "491654    329799.0\n",
       "491655    326661.0\n",
       "491656    429107.0\n",
       "491657    450825.0\n",
       "491658    390133.0\n",
       "491659     92900.0\n",
       "491660    281520.0\n",
       "491661    181190.0\n",
       "491662    212214.0\n",
       "491663    409541.0\n",
       "491664    239677.0\n",
       "491665     45036.0\n",
       "491666    196379.0\n",
       "491667     38793.0\n",
       "Name: score, Length: 491668, dtype: float64"
      ]
     },
     "execution_count": 21,
     "metadata": {},
     "output_type": "execute_result"
    }
   ],
   "source": [
    "lg"
   ]
  },
  {
   "cell_type": "markdown",
   "metadata": {},
   "source": [
    "20-27"
   ]
  }
 ],
 "metadata": {
  "kernelspec": {
   "display_name": "Python 3",
   "language": "python",
   "name": "python3"
  },
  "language_info": {
   "codemirror_mode": {
    "name": "ipython",
    "version": 3
   },
   "file_extension": ".py",
   "mimetype": "text/x-python",
   "name": "python",
   "nbconvert_exporter": "python",
   "pygments_lexer": "ipython3",
   "version": "3.6.4"
  }
 },
 "nbformat": 4,
 "nbformat_minor": 2
}
