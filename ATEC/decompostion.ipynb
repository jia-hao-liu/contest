{
 "cells": [
  {
   "cell_type": "code",
   "execution_count": 1,
   "metadata": {},
   "outputs": [],
   "source": [
    "import numpy as np\n",
    "import pandas as pd\n",
    "\n",
    "data_train = pd.read_csv(\"F:/contest/ATEC/train.csv\")\n",
    "data_train = data_train[data_train.label != -1].drop(['date','id'] , axis = 1)"
   ]
  },
  {
   "cell_type": "code",
   "execution_count": 2,
   "metadata": {},
   "outputs": [],
   "source": [
    "data_train[data_train.label == 1] = data_train[data_train.label == 1].fillna(data_train[data_train.label == 1].mean())\n",
    "data_train[data_train.label == 0] = data_train[data_train.label == 0].fillna(data_train[data_train.label == 0].mean())"
   ]
  },
  {
   "cell_type": "code",
   "execution_count": 12,
   "metadata": {},
   "outputs": [
    {
     "name": "stdout",
     "output_type": "stream",
     "text": [
      "Wall time: 4.13 s\n"
     ]
    }
   ],
   "source": [
    "%%time\n",
    "from sklearn.decomposition import TruncatedSVD, PCA, FastICA\n",
    "from sklearn.random_projection import GaussianRandomProjection, SparseRandomProjection\n",
    "\n",
    "\n",
    "# n_comp = 240\n",
    "\n",
    "# # tSVD\n",
    "# # tsvd = TruncatedSVD(n_components=n_comp, random_state=420)\n",
    "# # tsvd_resulttsvd.fit(data_train)\n",
    "# # tsvd_results_test = tsvd.transform(data_test)\n",
    "\n",
    "# PCA\n",
    "# pca = PCA(n_components=n_comp, random_state=420)\n",
    "# pca2_results_train = pca.fit_transform(data_train.drop(['label'], axis = 1))\n",
    "pca2_results_test = pca.transform(data_test)\n",
    "\n",
    "# # ICA\n",
    "# ica = FastICA(n_components=n_comp, random_state=420)\n",
    "# ica.fit(data_train)\n",
    "# ica2_results_test = ica.transform(data_test)\n",
    "\n",
    "# # GRP\n",
    "# grp = GaussianRandomProjection(n_components=n_comp, eps=0.1, random_state=420)\n",
    "# grp_results_train = grp.fit_transform(data_train)\n",
    "# grp_results_test = grp.transform(data_test)\n",
    "\n",
    "# # SRP\n",
    "# srp = SparseRandomProjection(n_components=n_comp, dense_output=True, random_state=420)\n",
    "# srp_results_train = srp.fit_transform(data_train)\n",
    "# srp_results_test = srp.transform(data_test)\n",
    "\n",
    "\n",
    "# for i in range(134, n_comp + 1):\n",
    "#     data_train['pca_' + str(i)] = pca2_results_train[:, i - 1]\n",
    "# #     data_test['pca_' + str(i)] = pca2_results_test[:, i - 1]\n",
    "\n",
    "#     data_train['ica_' + str(i)] = ica2_results_train[:, i - 1]\n",
    "# #     data_test['ica_' + str(i)] = ica2_results_test[:, i - 1]\n",
    "\n",
    "#     data_train['tsvd_' + str(i)] = tsvd_results_train[:, i - 1]\n",
    "#     data_test['tsvd_' + str(i)] = tsvd_results_test[:, i - 1]\n",
    "\n",
    "#     data_train['grp_' + str(i)] = grp_results_train[:, i - 1]\n",
    "#     data_test['grp_' + str(i)] = grp_results_test[:, i - 1]\n",
    "\n",
    "#     data_train['srp_' + str(i)] = srp_results_train[:, i - 1]\n",
    "#     data_test['srp_' + str(i)] = srp_results_test[:, i - 1]\n",
    "    \n",
    "\n"
   ]
  },
  {
   "cell_type": "code",
   "execution_count": 16,
   "metadata": {},
   "outputs": [
    {
     "data": {
      "text/plain": [
       "(491668, 240)"
      ]
     },
     "execution_count": 16,
     "metadata": {},
     "output_type": "execute_result"
    }
   ],
   "source": [
    "pca2_results_test.shape"
   ]
  },
  {
   "cell_type": "code",
   "execution_count": null,
   "metadata": {},
   "outputs": [],
   "source": [
    "X_train = data_train.iloc[:,1:].as_matrix()\n",
    "y_train = data_train.iloc[:,0].as_matrix()\n",
    "\n",
    "X_test = data_test.iloc[:,1:].as_matrix()\n",
    "y_test = data_test.iloc[:,0].as_matrix()"
   ]
  },
  {
   "cell_type": "code",
   "execution_count": 20,
   "metadata": {},
   "outputs": [
    {
     "name": "stdout",
     "output_type": "stream",
     "text": [
      "Wall time: 2.94 s\n"
     ]
    }
   ],
   "source": [
    "%%time\n",
    "# import lightgbm as lgb\n",
    "# LGBM = lgb.LGBMClassifier(\n",
    "                         \n",
    "#                          metric = 'auc',\n",
    "#                          n_estimators=100, \n",
    "#                          learning_rate=0.1, \n",
    "#                          num_leaves=63, \n",
    "#                          min_samples_split=2)\n",
    "\n",
    "\n",
    "\n",
    "# LGBM.fit(pca2_results_train,data_train['label'].as_matrix())\n",
    "res = LGBM.predict_proba(pca2_results_test)[:,1]\n"
   ]
  },
  {
   "cell_type": "code",
   "execution_count": null,
   "metadata": {},
   "outputs": [],
   "source": [
    "from sklearn.metrics import confusion_matrix,precision_recall_curve,auc,roc_auc_score,roc_curve,recall_score\n",
    "\n",
    "auc = roc_auc_score(y_test, res)\n",
    "recall_acc = recall_score(y_test,res)"
   ]
  },
  {
   "cell_type": "code",
   "execution_count": 19,
   "metadata": {},
   "outputs": [],
   "source": [
    "data_train.to_csv(\"F:/contest/ATEC/decomposition.csv\")"
   ]
  },
  {
   "cell_type": "code",
   "execution_count": 25,
   "metadata": {},
   "outputs": [
    {
     "name": "stdout",
     "output_type": "stream",
     "text": [
      "Wall time: 38min 47s\n"
     ]
    }
   ],
   "source": [
    "%%time\n",
    "pd.DataFrame(np.concatenate([pca2_results_train,ica2_results_train,tsvd_results_train], axis =1)).to_csv(\"F:/contest/ATEC/PCA.csv\", index = False)"
   ]
  },
  {
   "cell_type": "code",
   "execution_count": 25,
   "metadata": {},
   "outputs": [],
   "source": [
    "data_test = pd.read_csv(\"F:/contest/ATEC/test.csv\")\n",
    "test_id = data_test['id']\n",
    "# data_test = data_test.drop(['date', 'id'], axis = 1)\n",
    "# data_test = data_test.fillna(data_test.mean())"
   ]
  },
  {
   "cell_type": "code",
   "execution_count": 26,
   "metadata": {},
   "outputs": [],
   "source": [
    "\n",
    "\n",
    "end = pd.DataFrame({'id':test_id, 'score': res})\n",
    "end.to_csv(\"F:/contest/ATEC/PCA.csv\",index = False)"
   ]
  }
 ],
 "metadata": {
  "kernelspec": {
   "display_name": "Python 3",
   "language": "python",
   "name": "python3"
  },
  "language_info": {
   "codemirror_mode": {
    "name": "ipython",
    "version": 3
   },
   "file_extension": ".py",
   "mimetype": "text/x-python",
   "name": "python",
   "nbconvert_exporter": "python",
   "pygments_lexer": "ipython3",
   "version": "3.6.4"
  }
 },
 "nbformat": 4,
 "nbformat_minor": 2
}
