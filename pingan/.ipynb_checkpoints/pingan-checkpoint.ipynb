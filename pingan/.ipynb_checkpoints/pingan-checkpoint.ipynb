{
 "cells": [
  {
   "cell_type": "code",
   "execution_count": 15,
   "metadata": {},
   "outputs": [
    {
     "data": {
      "text/plain": [
       "0       -1.278836e+06\n",
       "1       -1.278776e+06\n",
       "2       -1.278716e+06\n",
       "3       -1.278656e+06\n",
       "4       -1.278596e+06\n",
       "5       -1.262516e+06\n",
       "6       -1.262456e+06\n",
       "7       -1.262396e+06\n",
       "8       -1.262336e+06\n",
       "9       -1.262276e+06\n",
       "10      -1.262216e+06\n",
       "11      -1.262156e+06\n",
       "12      -1.262096e+06\n",
       "13      -1.262036e+06\n",
       "14      -1.261976e+06\n",
       "15      -1.261436e+06\n",
       "16      -1.261376e+06\n",
       "17      -1.261316e+06\n",
       "18      -1.261256e+06\n",
       "19      -1.261196e+06\n",
       "20      -1.260716e+06\n",
       "21      -1.260656e+06\n",
       "22      -1.260596e+06\n",
       "23      -1.260536e+06\n",
       "24      -1.260476e+06\n",
       "25      -1.279136e+06\n",
       "26      -1.279076e+06\n",
       "27      -1.279016e+06\n",
       "28      -1.278956e+06\n",
       "29      -1.278896e+06\n",
       "             ...     \n",
       "69276   -9.250757e+05\n",
       "69277   -9.251357e+05\n",
       "69278   -9.251957e+05\n",
       "69279   -9.252557e+05\n",
       "69280   -9.253157e+05\n",
       "69281   -9.253757e+05\n",
       "69282   -9.254357e+05\n",
       "69283   -9.254957e+05\n",
       "69284   -9.255557e+05\n",
       "69285   -9.256157e+05\n",
       "69286   -9.256757e+05\n",
       "69287   -9.257357e+05\n",
       "69288   -9.257957e+05\n",
       "69289   -9.258557e+05\n",
       "69290   -1.263176e+06\n",
       "69291   -1.263236e+06\n",
       "69292   -1.263296e+06\n",
       "69293   -1.263356e+06\n",
       "69294   -1.278716e+06\n",
       "69295   -1.278776e+06\n",
       "69296   -1.262576e+06\n",
       "69297   -1.262636e+06\n",
       "69298   -1.262696e+06\n",
       "69299   -1.262756e+06\n",
       "69300   -1.262816e+06\n",
       "69301   -1.262876e+06\n",
       "69302   -1.262936e+06\n",
       "69303   -1.262996e+06\n",
       "69304   -1.263056e+06\n",
       "69305   -1.263116e+06\n",
       "Name: TIME, Length: 69306, dtype: float64"
      ]
     },
     "execution_count": 15,
     "metadata": {},
     "output_type": "execute_result"
    }
   ],
   "source": [
    "import numpy as np\n",
    "import pandas as pd\n",
    "import matplotlib.pyplot as plt \n",
    "from sklearn.preprocessing import StandardScaler\n",
    "\n",
    "\n",
    "data_train = pd.read_csv(\"F:/contest/DF/dataset/train.csv\")\n",
    "\n",
    "\n",
    "data_train['TIME'] - np.mean(data_train['TIME'])"
   ]
  },
  {
   "cell_type": "code",
   "execution_count": 6,
   "metadata": {},
   "outputs": [
    {
     "data": {
      "text/plain": [
       "46.833519786910195"
      ]
     },
     "execution_count": 6,
     "metadata": {},
     "output_type": "execute_result"
    }
   ],
   "source": [
    "1476941880/60/60/365/24\n",
    "\n"
   ]
  }
 ],
 "metadata": {
  "kernelspec": {
   "display_name": "Python 3",
   "language": "python",
   "name": "python3"
  },
  "language_info": {
   "codemirror_mode": {
    "name": "ipython",
    "version": 3
   },
   "file_extension": ".py",
   "mimetype": "text/x-python",
   "name": "python",
   "nbconvert_exporter": "python",
   "pygments_lexer": "ipython3",
   "version": "3.6.4"
  }
 },
 "nbformat": 4,
 "nbformat_minor": 2
}
